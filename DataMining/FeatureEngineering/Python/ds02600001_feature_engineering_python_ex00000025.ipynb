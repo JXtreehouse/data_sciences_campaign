{
 "cells": [
  {
   "cell_type": "code",
   "execution_count": 2,
   "metadata": {
    "collapsed": true
   },
   "outputs": [],
   "source": [
    "# encoding=utf8"
   ]
  },
  {
   "cell_type": "markdown",
   "metadata": {},
   "source": [
    "# 特征工程-线性特征变换-多维定标MDS\n"
   ]
  },
  {
   "cell_type": "code",
   "execution_count": null,
   "metadata": {
    "collapsed": true
   },
   "outputs": [],
   "source": []
  },
  {
   "cell_type": "code",
   "execution_count": 3,
   "metadata": {
    "collapsed": true
   },
   "outputs": [],
   "source": [
    "import numpy as np\n"
   ]
  },
  {
   "cell_type": "code",
   "execution_count": 4,
   "metadata": {
    "collapsed": false
   },
   "outputs": [],
   "source": [
    "\n",
    "D=np.array([[0,411,213,219,296,397],\n",
    "            [411,0,204,203,120,152],\n",
    "            [213,204,0,73,136,245],\n",
    "            [219,203,73,0,90,191],\n",
    "            [296,120,136,90,0,109],\n",
    "            [ 397,152,245,191,109,0]])\n",
    "\n",
    "N = D.shape[0]\n",
    "T = np.zeros((N,N))\n"
   ]
  },
  {
   "cell_type": "code",
   "execution_count": 5,
   "metadata": {
    "collapsed": true
   },
   "outputs": [],
   "source": [
    "#solution 1\n",
    "#ss = 1.0/N**2*np.sum(D**2)\n",
    "#for i in range(N):\n",
    "#    for j in range(i,N):       \n",
    "#        T[i,j] = T[j,i] = -0.5*(D[i,j]**2 -1.0/N*np.dot(D[i,:],D[i,:]) -1.0/N*np.dot(D[:,j],D[:,j])+ss)\n",
    "\n",
    "#solution 2\n",
    "#K = np.dot(D,np.transpose(D))\n"
   ]
  },
  {
   "cell_type": "code",
   "execution_count": 6,
   "metadata": {
    "collapsed": true
   },
   "outputs": [],
   "source": [
    "D2 = D**2\n",
    "H = np.eye(N) - 1/N\n",
    "T = -0.5*np.dot(np.dot(H,D2),H)\n",
    "\n"
   ]
  },
  {
   "cell_type": "code",
   "execution_count": 7,
   "metadata": {
    "collapsed": true
   },
   "outputs": [],
   "source": [
    "eigVal,eigVec = np.linalg.eig(T) \n",
    "X = np.dot(eigVec[:,:2],np.diag(np.sqrt(eigVal[:2]))) \n"
   ]
  },
  {
   "cell_type": "code",
   "execution_count": 8,
   "metadata": {
    "collapsed": false
   },
   "outputs": [
    {
     "name": "stdout",
     "output_type": "stream",
     "text": [
      "original distance \tnew distance\n"
     ]
    }
   ],
   "source": [
    "\n",
    "print('original distance','\\tnew distance')\n"
   ]
  },
  {
   "cell_type": "code",
   "execution_count": 9,
   "metadata": {
    "collapsed": false
   },
   "outputs": [
    {
     "name": "stdout",
     "output_type": "stream",
     "text": [
      "411 \t\t 411.0730\n",
      "213 \t\t 213.3703\n",
      "219 \t\t 216.1111\n",
      "296 \t\t 299.8839\n",
      "397 \t\t 396.5059\n",
      "204 \t\t 206.0970\n",
      "203 \t\t 200.8076\n",
      "120 \t\t 132.0087\n",
      "152 \t\t 151.6636\n",
      "73 \t\t 76.6109\n",
      "136 \t\t 132.5989\n",
      "245 \t\t 246.1059\n",
      "90 \t\t 84.4350\n",
      "191 \t\t 190.9788\n",
      "109 \t\t 113.5375\n"
     ]
    }
   ],
   "source": [
    "for i in range(N):\n",
    "    for j in range(i+1,N):\n",
    "        print(np.str(D[i,j]),'\\t\\t',np.str(\"%.4f\"%np.linalg.norm(X[i]-X[j])))"
   ]
  },
  {
   "cell_type": "code",
   "execution_count": null,
   "metadata": {
    "collapsed": true
   },
   "outputs": [],
   "source": []
  }
 ],
 "metadata": {
  "kernelspec": {
   "display_name": "Python 3",
   "language": "python",
   "name": "python3"
  },
  "language_info": {
   "codemirror_mode": {
    "name": "ipython",
    "version": 3
   },
   "file_extension": ".py",
   "mimetype": "text/x-python",
   "name": "python",
   "nbconvert_exporter": "python",
   "pygments_lexer": "ipython3",
   "version": "3.6.0"
  }
 },
 "nbformat": 4,
 "nbformat_minor": 2
}
